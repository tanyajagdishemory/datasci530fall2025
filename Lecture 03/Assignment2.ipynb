{
 "cells": [
  {
   "cell_type": "markdown",
   "id": "819eb1e2",
   "metadata": {},
   "source": [
    "# <span style=\"color:darkblue\"> Assignment 2: Formula 1 Analysis </span>\n",
    "\n",
    "<font size = 4>\n",
    "By: Tanya Jagdish"
   ]
  },
  {
   "cell_type": "markdown",
   "id": "0eb9c9ad",
   "metadata": {},
   "source": [
    "## <span style=\"color:darkblue\"> Section A: Introduction </span>"
   ]
  },
  {
   "cell_type": "markdown",
   "id": "ca424b53",
   "metadata": {},
   "source": [
    "Goal: compare top 3 constructors across two time periods (1981–2020, 2001–2020) and study Ferrari’s drivers and best year."
   ]
  },
  {
   "cell_type": "markdown",
   "id": "867a1c78",
   "metadata": {},
   "source": [
    "## <span style=\"color:darkblue\"> Section B: Analyzing top 3 constructors </span>"
   ]
  },
  {
   "cell_type": "markdown",
   "id": "67fc9d21",
   "metadata": {},
   "source": [
    "### <span style = \"color:darkblue\"> Import libraries and loading datasets </span>"
   ]
  },
  {
   "cell_type": "code",
   "execution_count": 66,
   "id": "8730340a",
   "metadata": {},
   "outputs": [],
   "source": [
    "#import necessary libraries\n",
    "\n",
    "import pandas as pd\n",
    "import numpy as np\n",
    "import matplotlib.pyplot as plt"
   ]
  },
  {
   "cell_type": "markdown",
   "id": "4517a6c1",
   "metadata": {},
   "source": [
    "<font size = 4>\n",
    "\n",
    "Datasets used + rationale for use\n",
    "\n",
    "<font size = 2>\n",
    "\n",
    "- constructor_results: gives points per race; allows summing up to season totals\n",
    "\n",
    "- races: provides the year of each race (needed for time windows)\n",
    "\n",
    "- constructors: gives constructor names (e.g., Ferrari, McLaren)\n",
    "\n",
    "- drivers + qualifying: link drivers to Ferrari to count unique drivers\n",
    "\n",
    "I chose these datasets because they directly answer the assignment questions; other datasets (e.g., pit_stops, lap_times) weren’t needed"
   ]
  },
  {
   "cell_type": "code",
   "execution_count": 67,
   "id": "a893da45",
   "metadata": {},
   "outputs": [],
   "source": [
    "#import necessary datasets\n",
    "\n",
    "constructors = pd.read_csv(\"data_raw/constructors.csv\")\n",
    "constructor_results = pd.read_csv(\"data_raw/constructor_results.csv\")   \n",
    "races = pd.read_csv(\"data_raw/races.csv\")\n",
    "drivers = pd.read_csv(\"data_raw/drivers.csv\")\n",
    "qual = pd.read_csv(\"data_raw/qualifying.csv\")\n"
   ]
  },
  {
   "cell_type": "markdown",
   "id": "bfd80d84",
   "metadata": {},
   "source": [
    "### <span style = \"color:darkblue\"> Total points per season "
   ]
  },
  {
   "cell_type": "markdown",
   "id": "503aed00",
   "metadata": {},
   "source": [
    "<font size = 2>\n",
    "\n",
    "- Create a table to help calculate total points per constructor in each season/year\n",
    "\n",
    "- Since the constructor_results table does not have a year column, we add one by merging it with the races table, using a common identifier as shown below\n",
    "\n",
    "- This table will be helpful in calculating top 3 and average constructor score across the required time periods"
   ]
  },
  {
   "cell_type": "code",
   "execution_count": 68,
   "id": "fa8e2eda",
   "metadata": {},
   "outputs": [
    {
     "name": "stdout",
     "output_type": "stream",
     "text": [
      "int64\n",
      "int64\n",
      "\n",
      "constructor_results dataset\n",
      "12170\n",
      "1016\n",
      "175\n",
      "\n",
      "races\n",
      "1102\n"
     ]
    }
   ],
   "source": [
    "#data checks before merging\n",
    "\n",
    "#check for dtypes in both datasets\n",
    "print(constructor_results['raceId'].dtypes)\n",
    "print(races['raceId'].dtypes)\n",
    "\n",
    "\n",
    "#Data length checks\n",
    "print(\"\")\n",
    "print(\"constructor_results dataset\")\n",
    "print(len(constructor_results))\n",
    "print(len(constructor_results['raceId'].unique()))\n",
    "print(len(constructor_results['constructorId'].unique()))\n",
    "\n",
    "print(\"\")\n",
    "print(\"races\")\n",
    "print(len(races['raceId'].unique()))\n",
    "\n",
    "#note: races dataset has more unique raceId values than the constructor_results dataset\n",
    "#we will do a left merge to retain all values from constructor_results dataset"
   ]
  },
  {
   "cell_type": "code",
   "execution_count": null,
   "id": "00a66729",
   "metadata": {},
   "outputs": [
    {
     "name": "stdout",
     "output_type": "stream",
     "text": [
      "\n",
      "12170\n",
      "1016\n",
      "175\n"
     ]
    }
   ],
   "source": [
    "#create a seasons total points table for each constructor in each year\n",
    "\n",
    "constructor_results_merged = pd.merge(constructor_results,\n",
    "                                      races[['raceId', 'year']], #add year into constructor results table\n",
    "                                        on='raceId',\n",
    "                                        how='left')\n",
    "\n",
    "\n",
    "#check for number of rows in the new table + data integrity\n",
    "print(\"\")\n",
    "print(len(constructor_results_merged))\n",
    "print(len(constructor_results_merged['raceId'].unique()))\n",
    "print(len(constructor_results_merged['constructorId'].unique()))\n",
    "\n",
    "#note: throughout the merge, I checked for missing values through data visualizer"
   ]
  },
  {
   "cell_type": "code",
   "execution_count": 70,
   "id": "6b0bc259",
   "metadata": {},
   "outputs": [
    {
     "name": "stdout",
     "output_type": "stream",
     "text": [
      "\n",
      "929\n",
      "1016\n",
      "175\n",
      "\n",
      "1956\n",
      "2022\n"
     ]
    }
   ],
   "source": [
    "#create season_totals table to calculate total points per constructor per year\n",
    "\n",
    "season_totals = (\n",
    "    constructor_results_merged\n",
    "    .groupby(['year', 'constructorId'],       #group by year and constructorId, summing points\n",
    "             as_index = False)['points']\n",
    "             .sum() \n",
    "    .rename(columns={'points':'total_points'}) #rename points column to total_points\n",
    ")\n",
    "\n",
    "#check for number of rows in the new table\n",
    "print(\"\")\n",
    "print(len(season_totals))\n",
    "print(len(constructor_results_merged['raceId'].unique()))\n",
    "print(len(constructor_results_merged['constructorId'].unique()))\n",
    "\n",
    "#check for lowest and highest year\n",
    "print(\"\")\n",
    "print(season_totals['year'].min())\n",
    "print(season_totals['year'].max())"
   ]
  },
  {
   "cell_type": "code",
   "execution_count": 73,
   "id": "3464ef68",
   "metadata": {},
   "outputs": [
    {
     "data": {
      "application/vnd.microsoft.datawrangler.viewer.v0+json": {
       "columns": [
        {
         "name": "index",
         "rawType": "int64",
         "type": "integer"
        },
        {
         "name": "year",
         "rawType": "int64",
         "type": "integer"
        },
        {
         "name": "constructorId",
         "rawType": "int64",
         "type": "integer"
        },
        {
         "name": "total_points",
         "rawType": "float64",
         "type": "float"
        },
        {
         "name": "name_x",
         "rawType": "object",
         "type": "string"
        },
        {
         "name": "name_y",
         "rawType": "object",
         "type": "string"
        }
       ],
       "ref": "749d9cc2-eaad-4a71-8a99-4543627a47ad",
       "rows": [
        [
         "0",
         "1956",
         "6",
         "21.0",
         "Ferrari",
         "Ferrari"
        ],
        [
         "1",
         "1956",
         "105",
         "28.0",
         "Maserati",
         "Maserati"
        ],
        [
         "2",
         "1956",
         "128",
         "0.0",
         "Gordini",
         "Gordini"
        ],
        [
         "3",
         "1958",
         "6",
         "61.0",
         "Ferrari",
         "Ferrari"
        ],
        [
         "4",
         "1958",
         "32",
         "3.0",
         "Team Lotus",
         "Team Lotus"
        ]
       ],
       "shape": {
        "columns": 5,
        "rows": 5
       }
      },
      "text/html": [
       "<div>\n",
       "<style scoped>\n",
       "    .dataframe tbody tr th:only-of-type {\n",
       "        vertical-align: middle;\n",
       "    }\n",
       "\n",
       "    .dataframe tbody tr th {\n",
       "        vertical-align: top;\n",
       "    }\n",
       "\n",
       "    .dataframe thead th {\n",
       "        text-align: right;\n",
       "    }\n",
       "</style>\n",
       "<table border=\"1\" class=\"dataframe\">\n",
       "  <thead>\n",
       "    <tr style=\"text-align: right;\">\n",
       "      <th></th>\n",
       "      <th>year</th>\n",
       "      <th>constructorId</th>\n",
       "      <th>total_points</th>\n",
       "      <th>name_x</th>\n",
       "      <th>name_y</th>\n",
       "    </tr>\n",
       "  </thead>\n",
       "  <tbody>\n",
       "    <tr>\n",
       "      <th>0</th>\n",
       "      <td>1956</td>\n",
       "      <td>6</td>\n",
       "      <td>21.0</td>\n",
       "      <td>Ferrari</td>\n",
       "      <td>Ferrari</td>\n",
       "    </tr>\n",
       "    <tr>\n",
       "      <th>1</th>\n",
       "      <td>1956</td>\n",
       "      <td>105</td>\n",
       "      <td>28.0</td>\n",
       "      <td>Maserati</td>\n",
       "      <td>Maserati</td>\n",
       "    </tr>\n",
       "    <tr>\n",
       "      <th>2</th>\n",
       "      <td>1956</td>\n",
       "      <td>128</td>\n",
       "      <td>0.0</td>\n",
       "      <td>Gordini</td>\n",
       "      <td>Gordini</td>\n",
       "    </tr>\n",
       "    <tr>\n",
       "      <th>3</th>\n",
       "      <td>1958</td>\n",
       "      <td>6</td>\n",
       "      <td>61.0</td>\n",
       "      <td>Ferrari</td>\n",
       "      <td>Ferrari</td>\n",
       "    </tr>\n",
       "    <tr>\n",
       "      <th>4</th>\n",
       "      <td>1958</td>\n",
       "      <td>32</td>\n",
       "      <td>3.0</td>\n",
       "      <td>Team Lotus</td>\n",
       "      <td>Team Lotus</td>\n",
       "    </tr>\n",
       "  </tbody>\n",
       "</table>\n",
       "</div>"
      ],
      "text/plain": [
       "   year  constructorId  total_points      name_x      name_y\n",
       "0  1956              6          21.0     Ferrari     Ferrari\n",
       "1  1956            105          28.0    Maserati    Maserati\n",
       "2  1956            128           0.0     Gordini     Gordini\n",
       "3  1958              6          61.0     Ferrari     Ferrari\n",
       "4  1958             32           3.0  Team Lotus  Team Lotus"
      ]
     },
     "metadata": {},
     "output_type": "display_data"
    },
    {
     "name": "stdout",
     "output_type": "stream",
     "text": [
      "\n",
      "929\n",
      "66\n",
      "175\n"
     ]
    }
   ],
   "source": [
    "#Add constructor names into season_totals\n",
    "season_totals = season_totals.merge(\n",
    "    constructors[['constructorId', 'name']], \n",
    "    on ='constructorId', \n",
    "    how ='left') \n",
    "\n",
    "#preview first few rows to make sure the merge worked\n",
    "display(season_totals.head())\n",
    "\n",
    "#check for duplicate years for each constructor\n",
    "print(\"\")\n",
    "print(len(season_totals))\n",
    "print(len(season_totals['year'].unique()))\n",
    "print(len(season_totals['constructorId'].unique()))\n"
   ]
  },
  {
   "cell_type": "code",
   "execution_count": 83,
   "id": "d39f6d15",
   "metadata": {},
   "outputs": [
    {
     "data": {
      "application/vnd.microsoft.datawrangler.viewer.v0+json": {
       "columns": [
        {
         "name": "index",
         "rawType": "int64",
         "type": "integer"
        },
        {
         "name": "year",
         "rawType": "int64",
         "type": "integer"
        },
        {
         "name": "constructorId",
         "rawType": "int64",
         "type": "integer"
        },
        {
         "name": "total_points",
         "rawType": "float64",
         "type": "float"
        },
        {
         "name": "name_x",
         "rawType": "object",
         "type": "string"
        },
        {
         "name": "name_y",
         "rawType": "object",
         "type": "string"
        }
       ],
       "ref": "4be89fa7-7e6a-4a1b-b208-acfdf09ccae2",
       "rows": [
        [
         "866",
         "2016",
         "131",
         "765.0",
         "Mercedes",
         "Mercedes"
        ],
        [
         "922",
         "2022",
         "9",
         "759.0",
         "Red Bull",
         "Red Bull"
        ],
        [
         "896",
         "2019",
         "131",
         "739.0",
         "Mercedes",
         "Mercedes"
        ],
        [
         "854",
         "2015",
         "131",
         "703.0",
         "Mercedes",
         "Mercedes"
        ],
        [
         "843",
         "2014",
         "131",
         "701.0",
         "Mercedes",
         "Mercedes"
        ]
       ],
       "shape": {
        "columns": 5,
        "rows": 5
       }
      },
      "text/html": [
       "<div>\n",
       "<style scoped>\n",
       "    .dataframe tbody tr th:only-of-type {\n",
       "        vertical-align: middle;\n",
       "    }\n",
       "\n",
       "    .dataframe tbody tr th {\n",
       "        vertical-align: top;\n",
       "    }\n",
       "\n",
       "    .dataframe thead th {\n",
       "        text-align: right;\n",
       "    }\n",
       "</style>\n",
       "<table border=\"1\" class=\"dataframe\">\n",
       "  <thead>\n",
       "    <tr style=\"text-align: right;\">\n",
       "      <th></th>\n",
       "      <th>year</th>\n",
       "      <th>constructorId</th>\n",
       "      <th>total_points</th>\n",
       "      <th>name_x</th>\n",
       "      <th>name_y</th>\n",
       "    </tr>\n",
       "  </thead>\n",
       "  <tbody>\n",
       "    <tr>\n",
       "      <th>866</th>\n",
       "      <td>2016</td>\n",
       "      <td>131</td>\n",
       "      <td>765.0</td>\n",
       "      <td>Mercedes</td>\n",
       "      <td>Mercedes</td>\n",
       "    </tr>\n",
       "    <tr>\n",
       "      <th>922</th>\n",
       "      <td>2022</td>\n",
       "      <td>9</td>\n",
       "      <td>759.0</td>\n",
       "      <td>Red Bull</td>\n",
       "      <td>Red Bull</td>\n",
       "    </tr>\n",
       "    <tr>\n",
       "      <th>896</th>\n",
       "      <td>2019</td>\n",
       "      <td>131</td>\n",
       "      <td>739.0</td>\n",
       "      <td>Mercedes</td>\n",
       "      <td>Mercedes</td>\n",
       "    </tr>\n",
       "    <tr>\n",
       "      <th>854</th>\n",
       "      <td>2015</td>\n",
       "      <td>131</td>\n",
       "      <td>703.0</td>\n",
       "      <td>Mercedes</td>\n",
       "      <td>Mercedes</td>\n",
       "    </tr>\n",
       "    <tr>\n",
       "      <th>843</th>\n",
       "      <td>2014</td>\n",
       "      <td>131</td>\n",
       "      <td>701.0</td>\n",
       "      <td>Mercedes</td>\n",
       "      <td>Mercedes</td>\n",
       "    </tr>\n",
       "  </tbody>\n",
       "</table>\n",
       "</div>"
      ],
      "text/plain": [
       "     year  constructorId  total_points    name_x    name_y\n",
       "866  2016            131         765.0  Mercedes  Mercedes\n",
       "922  2022              9         759.0  Red Bull  Red Bull\n",
       "896  2019            131         739.0  Mercedes  Mercedes\n",
       "854  2015            131         703.0  Mercedes  Mercedes\n",
       "843  2014            131         701.0  Mercedes  Mercedes"
      ]
     },
     "metadata": {},
     "output_type": "display_data"
    },
    {
     "data": {
      "application/vnd.microsoft.datawrangler.viewer.v0+json": {
       "columns": [
        {
         "name": "index",
         "rawType": "int64",
         "type": "integer"
        },
        {
         "name": "year",
         "rawType": "int64",
         "type": "integer"
        },
        {
         "name": "constructorId",
         "rawType": "int64",
         "type": "integer"
        },
        {
         "name": "total_points",
         "rawType": "float64",
         "type": "float"
        },
        {
         "name": "name_x",
         "rawType": "object",
         "type": "string"
        },
        {
         "name": "name_y",
         "rawType": "object",
         "type": "string"
        }
       ],
       "ref": "69d63d66-5aef-4a64-9d76-8161889d6481",
       "rows": [
        [
         "28",
         "1959",
         "120",
         "0.0",
         "Dunn",
         "Dunn"
        ],
        [
         "27",
         "1959",
         "119",
         "0.0",
         "Moore",
         "Moore"
        ],
        [
         "26",
         "1959",
         "118",
         "0.0",
         "Vanwall",
         "Vanwall"
        ],
        [
         "25",
         "1959",
         "117",
         "0.0",
         "Aston Martin",
         "Aston Martin"
        ],
        [
         "24",
         "1959",
         "115",
         "0.0",
         "Christensen",
         "Christensen"
        ]
       ],
       "shape": {
        "columns": 5,
        "rows": 5
       }
      },
      "text/html": [
       "<div>\n",
       "<style scoped>\n",
       "    .dataframe tbody tr th:only-of-type {\n",
       "        vertical-align: middle;\n",
       "    }\n",
       "\n",
       "    .dataframe tbody tr th {\n",
       "        vertical-align: top;\n",
       "    }\n",
       "\n",
       "    .dataframe thead th {\n",
       "        text-align: right;\n",
       "    }\n",
       "</style>\n",
       "<table border=\"1\" class=\"dataframe\">\n",
       "  <thead>\n",
       "    <tr style=\"text-align: right;\">\n",
       "      <th></th>\n",
       "      <th>year</th>\n",
       "      <th>constructorId</th>\n",
       "      <th>total_points</th>\n",
       "      <th>name_x</th>\n",
       "      <th>name_y</th>\n",
       "    </tr>\n",
       "  </thead>\n",
       "  <tbody>\n",
       "    <tr>\n",
       "      <th>28</th>\n",
       "      <td>1959</td>\n",
       "      <td>120</td>\n",
       "      <td>0.0</td>\n",
       "      <td>Dunn</td>\n",
       "      <td>Dunn</td>\n",
       "    </tr>\n",
       "    <tr>\n",
       "      <th>27</th>\n",
       "      <td>1959</td>\n",
       "      <td>119</td>\n",
       "      <td>0.0</td>\n",
       "      <td>Moore</td>\n",
       "      <td>Moore</td>\n",
       "    </tr>\n",
       "    <tr>\n",
       "      <th>26</th>\n",
       "      <td>1959</td>\n",
       "      <td>118</td>\n",
       "      <td>0.0</td>\n",
       "      <td>Vanwall</td>\n",
       "      <td>Vanwall</td>\n",
       "    </tr>\n",
       "    <tr>\n",
       "      <th>25</th>\n",
       "      <td>1959</td>\n",
       "      <td>117</td>\n",
       "      <td>0.0</td>\n",
       "      <td>Aston Martin</td>\n",
       "      <td>Aston Martin</td>\n",
       "    </tr>\n",
       "    <tr>\n",
       "      <th>24</th>\n",
       "      <td>1959</td>\n",
       "      <td>115</td>\n",
       "      <td>0.0</td>\n",
       "      <td>Christensen</td>\n",
       "      <td>Christensen</td>\n",
       "    </tr>\n",
       "  </tbody>\n",
       "</table>\n",
       "</div>"
      ],
      "text/plain": [
       "    year  constructorId  total_points        name_x        name_y\n",
       "28  1959            120           0.0          Dunn          Dunn\n",
       "27  1959            119           0.0         Moore         Moore\n",
       "26  1959            118           0.0       Vanwall       Vanwall\n",
       "25  1959            117           0.0  Aston Martin  Aston Martin\n",
       "24  1959            115           0.0   Christensen   Christensen"
      ]
     },
     "metadata": {},
     "output_type": "display_data"
    }
   ],
   "source": [
    "#getting to know the merged dataset\n",
    "\n",
    "sorted_season_totals = season_totals.sort_values(by='total_points', ascending=False)\n",
    "\n",
    "#preview highest and lowest scores\n",
    "display(sorted_season_totals.head())\n",
    "display(sorted_season_totals.tail())"
   ]
  },
  {
   "cell_type": "markdown",
   "id": "b8b74d6f",
   "metadata": {},
   "source": [
    "### <span style = \"color:darkblue\"> Average and total points across time period"
   ]
  },
  {
   "cell_type": "markdown",
   "id": "b495c0d9",
   "metadata": {},
   "source": [
    "#### <span> 1981-2020 <span>"
   ]
  },
  {
   "cell_type": "code",
   "execution_count": 95,
   "id": "c07d2a07",
   "metadata": {},
   "outputs": [
    {
     "data": {
      "application/vnd.microsoft.datawrangler.viewer.v0+json": {
       "columns": [
        {
         "name": "index",
         "rawType": "int64",
         "type": "integer"
        },
        {
         "name": "constructorId",
         "rawType": "int64",
         "type": "integer"
        },
        {
         "name": "name_x",
         "rawType": "object",
         "type": "string"
        },
        {
         "name": "total_points",
         "rawType": "float64",
         "type": "float"
        }
       ],
       "ref": "9fff6ed3-fd42-4a00-a919-d27a6b624c2c",
       "rows": [
        [
         "5",
         "6",
         "Ferrari",
         "7374.0"
        ],
        [
         "56",
         "131",
         "Mercedes",
         "5685.0"
        ],
        [
         "0",
         "1",
         "McLaren",
         "5229.5"
        ]
       ],
       "shape": {
        "columns": 3,
        "rows": 3
       }
      },
      "text/html": [
       "<div>\n",
       "<style scoped>\n",
       "    .dataframe tbody tr th:only-of-type {\n",
       "        vertical-align: middle;\n",
       "    }\n",
       "\n",
       "    .dataframe tbody tr th {\n",
       "        vertical-align: top;\n",
       "    }\n",
       "\n",
       "    .dataframe thead th {\n",
       "        text-align: right;\n",
       "    }\n",
       "</style>\n",
       "<table border=\"1\" class=\"dataframe\">\n",
       "  <thead>\n",
       "    <tr style=\"text-align: right;\">\n",
       "      <th></th>\n",
       "      <th>constructorId</th>\n",
       "      <th>name_x</th>\n",
       "      <th>total_points</th>\n",
       "    </tr>\n",
       "  </thead>\n",
       "  <tbody>\n",
       "    <tr>\n",
       "      <th>5</th>\n",
       "      <td>6</td>\n",
       "      <td>Ferrari</td>\n",
       "      <td>7374.0</td>\n",
       "    </tr>\n",
       "    <tr>\n",
       "      <th>56</th>\n",
       "      <td>131</td>\n",
       "      <td>Mercedes</td>\n",
       "      <td>5685.0</td>\n",
       "    </tr>\n",
       "    <tr>\n",
       "      <th>0</th>\n",
       "      <td>1</td>\n",
       "      <td>McLaren</td>\n",
       "      <td>5229.5</td>\n",
       "    </tr>\n",
       "  </tbody>\n",
       "</table>\n",
       "</div>"
      ],
      "text/plain": [
       "    constructorId    name_x  total_points\n",
       "5               6   Ferrari        7374.0\n",
       "56            131  Mercedes        5685.0\n",
       "0               1   McLaren        5229.5"
      ]
     },
     "metadata": {},
     "output_type": "display_data"
    },
    {
     "data": {
      "text/plain": [
       "np.float64(532.2388059701492)"
      ]
     },
     "metadata": {},
     "output_type": "display_data"
    }
   ],
   "source": [
    "# total scores for each constructor in given time period\n",
    "total_scores_1981_2020 = (season_totals\n",
    "                          .query('year >= 1981 & year <= 2020')    #filter for years between 1981 and 2020\n",
    "                          .groupby(['constructorId', 'name_x'], as_index=False)['total_points'] #group by constructorId, summing total_points\n",
    "                            .sum()\n",
    "                            .sort_values(by='total_points', ascending=False))\n",
    "\n",
    "#mean total scores across constructors from 1981 to 2020\n",
    "mean_total_1981_2020 = total_scores_1981_2020['total_points'].mean()\n",
    "\n",
    "display(total_scores_1981_2020.head(3))\n",
    "display(mean_total_1981_2020)"
   ]
  },
  {
   "cell_type": "markdown",
   "id": "23312670",
   "metadata": {},
   "source": [
    "#### <span> 2001-2020 </span>"
   ]
  },
  {
   "cell_type": "code",
   "execution_count": 96,
   "id": "abb4c979",
   "metadata": {},
   "outputs": [
    {
     "data": {
      "application/vnd.microsoft.datawrangler.viewer.v0+json": {
       "columns": [
        {
         "name": "index",
         "rawType": "int64",
         "type": "integer"
        },
        {
         "name": "constructorId",
         "rawType": "int64",
         "type": "integer"
        },
        {
         "name": "name_x",
         "rawType": "object",
         "type": "string"
        },
        {
         "name": "total_points",
         "rawType": "float64",
         "type": "float"
        }
       ],
       "ref": "60667106-4d72-4801-9fb9-915284f8ad6e",
       "rows": [
        [
         "5",
         "6",
         "Ferrari",
         "5862.0"
        ],
        [
         "24",
         "131",
         "Mercedes",
         "5685.0"
        ],
        [
         "8",
         "9",
         "Red Bull",
         "5043.5"
        ]
       ],
       "shape": {
        "columns": 3,
        "rows": 3
       }
      },
      "text/html": [
       "<div>\n",
       "<style scoped>\n",
       "    .dataframe tbody tr th:only-of-type {\n",
       "        vertical-align: middle;\n",
       "    }\n",
       "\n",
       "    .dataframe tbody tr th {\n",
       "        vertical-align: top;\n",
       "    }\n",
       "\n",
       "    .dataframe thead th {\n",
       "        text-align: right;\n",
       "    }\n",
       "</style>\n",
       "<table border=\"1\" class=\"dataframe\">\n",
       "  <thead>\n",
       "    <tr style=\"text-align: right;\">\n",
       "      <th></th>\n",
       "      <th>constructorId</th>\n",
       "      <th>name_x</th>\n",
       "      <th>total_points</th>\n",
       "    </tr>\n",
       "  </thead>\n",
       "  <tbody>\n",
       "    <tr>\n",
       "      <th>5</th>\n",
       "      <td>6</td>\n",
       "      <td>Ferrari</td>\n",
       "      <td>5862.0</td>\n",
       "    </tr>\n",
       "    <tr>\n",
       "      <th>24</th>\n",
       "      <td>131</td>\n",
       "      <td>Mercedes</td>\n",
       "      <td>5685.0</td>\n",
       "    </tr>\n",
       "    <tr>\n",
       "      <th>8</th>\n",
       "      <td>9</td>\n",
       "      <td>Red Bull</td>\n",
       "      <td>5043.5</td>\n",
       "    </tr>\n",
       "  </tbody>\n",
       "</table>\n",
       "</div>"
      ],
      "text/plain": [
       "    constructorId    name_x  total_points\n",
       "5               6   Ferrari        5862.0\n",
       "24            131  Mercedes        5685.0\n",
       "8               9  Red Bull        5043.5"
      ]
     },
     "metadata": {},
     "output_type": "display_data"
    },
    {
     "data": {
      "text/plain": [
       "np.float64(786.0142857142857)"
      ]
     },
     "metadata": {},
     "output_type": "display_data"
    }
   ],
   "source": [
    "# total scores for each constructor in given time period\n",
    "total_scores_2001_2020 = (season_totals\n",
    "                          .query('year >= 2001 & year <= 2020')    #filter for years between 2001 and 2020\n",
    "                          .groupby(['constructorId', 'name_x'], as_index=False)['total_points'] #group by constructorId, summing total_points\n",
    "                            .sum()\n",
    "                            .sort_values(by='total_points', ascending=False))\n",
    "\n",
    "#mean total scores across constructors from 2001 to 2020\n",
    "mean_total_2001_2020 = total_scores_2001_2020['total_points'].mean()\n",
    "\n",
    "display(total_scores_2001_2020.head(3))\n",
    "display(mean_total_2001_2020)"
   ]
  },
  {
   "cell_type": "markdown",
   "id": "8204b706",
   "metadata": {},
   "source": [
    "### <span style = \"color:darkblue\"> Visualizing and analyzing results </span>"
   ]
  },
  {
   "cell_type": "code",
   "execution_count": 109,
   "id": "4b12206c",
   "metadata": {},
   "outputs": [
    {
     "data": {
      "image/png": "[encoded data removed]",
      "text/plain": [
       "<Figure size 1000x600 with 2 Axes>"
      ]
     },
     "metadata": {},
     "output_type": "display_data"
    }
   ],
   "source": [
    "fig, (ax1, ax2) = plt.subplots(1, 2, figsize=(10, 6))\n",
    "\n",
    "# first panel\n",
    "ax1.bar(\n",
    "    total_scores_1981_2020['name_x'][:5],\n",
    "    total_scores_1981_2020['total_points'][:5],\n",
    "    color=['#0072B2', '#E69F00', '#009E73', '#56B4E9', '#D55E00']  # color-blind friendly\n",
    ")\n",
    "ax1.set_title('Total Points by Constructor (1981-2020)', fontsize=14)\n",
    "ax1.set_xlabel('Constructor', fontsize=12)\n",
    "ax1.set_ylabel('Total Points', fontsize=12)\n",
    "ax1.axhline(mean_total_1981_2020, color='#000000', linestyle='--', label='Mean Total Points')\n",
    "ax1.legend()\n",
    "\n",
    "# second panel\n",
    "ax2.bar(\n",
    "    total_scores_2001_2020['name_x'][:5],\n",
    "    total_scores_2001_2020['total_points'][:5],\n",
    "    color=['#0072B2', '#E69F00', '#009E73', '#56B4E9', '#D55E00']\n",
    ")\n",
    "ax2.set_title('Total Points by Constructor (2001-2020)', fontsize=14)\n",
    "ax2.set_xlabel('Constructor', fontsize=12)\n",
    "ax2.set_ylabel('Total Points', fontsize=12)\n",
    "ax2.axhline(mean_total_2001_2020, color='#000000', linestyle='--', label='Mean Total Points')\n",
    "ax2.legend()\n",
    "\n",
    "plt.tight_layout()\n",
    "plt.show()"
   ]
  },
  {
   "cell_type": "markdown",
   "id": "a8d2ff7b",
   "metadata": {},
   "source": [
    "<font size = 3>\n",
    "Analysis comments\n",
    "\n",
    "- As seen above, the top three constructors between 1981-2020 are: Ferrari, Mercedes, McLaren\n",
    "- Whereas, the top three constructors between 2001-2020 are: Ferrari, Mercedes, Red Bull\n",
    "- In the second time period, Red Bull replaced McLaren on the leader board\n",
    "- The top three scorers have significantly larger scores compared to the average across all constructs\n",
    "- For instance, the top scores across both time periods scored more than 5000 points\n",
    "- But the average total points was less than 1000 in both time periods\n"
   ]
  },
  {
   "cell_type": "markdown",
   "id": "3c6261c9",
   "metadata": {},
   "source": [
    "## <span style = \"color:darkblue\"> Section C: Ferrari drivers analysis <span>"
   ]
  },
  {
   "cell_type": "markdown",
   "id": "9b226522",
   "metadata": {},
   "source": [
    "### <span style = \"color:darkblue\"> Section C: Ferrari drivers analysis <span>"
   ]
  },
  {
   "cell_type": "markdown",
   "id": "6255fa6c",
   "metadata": {},
   "source": [
    "#### <span> Number of Ferrari drivers between 1981 and 2020 <span>"
   ]
  },
  {
   "cell_type": "code",
   "execution_count": 121,
   "id": "a6140873",
   "metadata": {},
   "outputs": [
    {
     "name": "stdout",
     "output_type": "stream",
     "text": [
      "13\n"
     ]
    },
    {
     "data": {
      "text/plain": [
       "13"
      ]
     },
     "execution_count": 121,
     "metadata": {},
     "output_type": "execute_result"
    }
   ],
   "source": [
    "#create a variable for Ferrari's constructorId\n",
    "ferrari_id = constructors.query(\"name == 'Ferrari'\")['constructorId'].values[0]\n",
    "\n",
    "#number of ferrari drivers between 1981 and 2020\n",
    "ferrari_drivers = (\n",
    "    qual.merge(races[['raceId', 'year']], on='raceId', how='left')  # Merge to get year\n",
    "        .query('1981 <= year <= 2020 and constructorId == @ferrari_id')  # Filter for years and Ferrari)\n",
    ")\n",
    "\n",
    "ferrari_drivers.head(3)\n",
    "\n",
    "#number of unique ferrari drivers between 1981 and 2020\n",
    "num_unique_ferrari_drivers = ferrari_drivers['driverId'].nunique()\n",
    "print(num_unique_ferrari_drivers)\n",
    "\n",
    "#cross-checking with other methods\n",
    "num_unique_ferrari_drivers_2 = ferrari_drivers.groupby('driverId').ngroups\n",
    "num_unique_ferrari_drivers_2"
   ]
  },
  {
   "cell_type": "markdown",
   "id": "e2219fdd",
   "metadata": {},
   "source": [
    "- As seen above, Ferrari had 13 drivers between 1981 and 2020\n",
    "\n",
    "- note that this is based on the following assumptions:\n",
    "\n",
    "1. Each driver has a unique ID number\n",
    "2. Each constructor has a unique ID number\n"
   ]
  },
  {
   "cell_type": "markdown",
   "id": "80a91f26",
   "metadata": {},
   "source": [
    "#### <span> Ferrari's best years <span>"
   ]
  },
  {
   "cell_type": "code",
   "execution_count": 129,
   "id": "9fec9368",
   "metadata": {},
   "outputs": [
    {
     "data": {
      "application/vnd.microsoft.datawrangler.viewer.v0+json": {
       "columns": [
        {
         "name": "index",
         "rawType": "int64",
         "type": "integer"
        },
        {
         "name": "year",
         "rawType": "int64",
         "type": "integer"
        },
        {
         "name": "total_points",
         "rawType": "float64",
         "type": "float"
        }
       ],
       "ref": "4e07bedd-7290-4226-a6f4-2d31aa3701e8",
       "rows": [
        [
         "883",
         "2018",
         "571.0"
        ]
       ],
       "shape": {
        "columns": 2,
        "rows": 1
       }
      },
      "text/html": [
       "<div>\n",
       "<style scoped>\n",
       "    .dataframe tbody tr th:only-of-type {\n",
       "        vertical-align: middle;\n",
       "    }\n",
       "\n",
       "    .dataframe tbody tr th {\n",
       "        vertical-align: top;\n",
       "    }\n",
       "\n",
       "    .dataframe thead th {\n",
       "        text-align: right;\n",
       "    }\n",
       "</style>\n",
       "<table border=\"1\" class=\"dataframe\">\n",
       "  <thead>\n",
       "    <tr style=\"text-align: right;\">\n",
       "      <th></th>\n",
       "      <th>year</th>\n",
       "      <th>total_points</th>\n",
       "    </tr>\n",
       "  </thead>\n",
       "  <tbody>\n",
       "    <tr>\n",
       "      <th>883</th>\n",
       "      <td>2018</td>\n",
       "      <td>571.0</td>\n",
       "    </tr>\n",
       "  </tbody>\n",
       "</table>\n",
       "</div>"
      ],
      "text/plain": [
       "     year  total_points\n",
       "883  2018         571.0"
      ]
     },
     "metadata": {},
     "output_type": "display_data"
    },
    {
     "data": {
      "image/png": "[encoded data removed]",
      "text/plain": [
       "<Figure size 1000x500 with 1 Axes>"
      ]
     },
     "metadata": {},
     "output_type": "display_data"
    }
   ],
   "source": [
    "#creating a table of ferrari's total season points between 1981 and 2020\n",
    "fer_years = (season_totals.query('constructorId == @ferrari_id and 1981 <= year <= 2020')\n",
    "                           .loc[:, ['year','total_points']]\n",
    "                           .sort_values(by='total_points', ascending=False))\n",
    "\n",
    "display(fer_years.head(1))\n",
    "\n",
    "#creating a bar chart to visualize ferrari's total points per season between 1981 and 2020\n",
    "plt.figure(figsize=(10,5))\n",
    "plt.bar(fer_years[\"year\"].astype(str), fer_years[\"total_points\"])\n",
    "plt.title(\"Ferrari's Points per Season (1981-2020)\")\n",
    "plt.xlabel(\"Year\")\n",
    "plt.ylabel(\"Total Points\")\n",
    "plt.xticks(rotation=45, ha=\"right\")\n",
    "plt.tight_layout()\n",
    "plt.show()"
   ]
  },
  {
   "cell_type": "markdown",
   "id": "45c926c5",
   "metadata": {},
   "source": [
    "Based on the analysis above, Ferrari's best season was in 2019, where it scored 571 points"
   ]
  }
 ],
 "metadata": {
  "kernelspec": {
   "display_name": "base",
   "language": "python",
   "name": "python3"
  },
  "language_info": {
   "codemirror_mode": {
    "name": "ipython",
    "version": 3
   },
   "file_extension": ".py",
   "mimetype": "text/x-python",
   "name": "python",
   "nbconvert_exporter": "python",
   "pygments_lexer": "ipython3",
   "version": "3.13.5"
  }
 },
 "nbformat": 4,
 "nbformat_minor": 5
}
