{
 "cells": [
  {
   "cell_type": "markdown",
   "id": "819eb1e2",
   "metadata": {},
   "source": [
    "# <span style=\"color:darkblue\"> Assignment 2: Formula 1 Analysis </span>\n",
    "\n",
    "<font size = 4>\n",
    "By: Tanya Jagdish"
   ]
  },
  {
   "cell_type": "markdown",
   "id": "0eb9c9ad",
   "metadata": {},
   "source": [
    "## <span style=\"color:darkblue\"> Context </span>"
   ]
  },
  {
   "cell_type": "code",
   "execution_count": null,
   "id": "4c85303b",
   "metadata": {},
   "outputs": [],
   "source": []
  },
  {
   "cell_type": "markdown",
   "id": "67fc9d21",
   "metadata": {},
   "source": [
    "## <span style = \"color:darkblue\"> Import libraries and loading datasets </span>"
   ]
  },
  {
   "cell_type": "code",
   "execution_count": null,
   "id": "8730340a",
   "metadata": {},
   "outputs": [
    {
     "ename": "",
     "evalue": "",
     "output_type": "error",
     "traceback": [
      "\u001b[1;31mnotebook controller is DISPOSED. \n",
      "\u001b[1;31mView Jupyter <a href='command:jupyter.viewOutput'>log</a> for further details."
     ]
    }
   ],
   "source": [
    "#import necessary libraries\n",
    "\n",
    "import pandas as pd\n",
    "import numpy as np\n",
    "import matplotlib.pyplot as plt"
   ]
  },
  {
   "cell_type": "code",
   "execution_count": null,
   "id": "a893da45",
   "metadata": {},
   "outputs": [
    {
     "ename": "",
     "evalue": "",
     "output_type": "error",
     "traceback": [
      "\u001b[1;31mnotebook controller is DISPOSED. \n",
      "\u001b[1;31mView Jupyter <a href='command:jupyter.viewOutput'>log</a> for further details."
     ]
    }
   ],
   "source": [
    "#import necessary datasets\n",
    "\n",
    "constructors = pd.read_csv(\"data_raw/constructors.csv\")\n",
    "constructor_results = pd.read_csv(\"data_raw/constructor_results.csv\")   \n",
    "races = pd.read_csv(\"data_raw/races.csv\")\n",
    "drivers = pd.read_csv(\"data_raw/drivers.csv\")\n",
    "qual = pd.read_csv(\"data_raw/qualifying.csv\")\n"
   ]
  },
  {
   "cell_type": "markdown",
   "id": "d67ee92e",
   "metadata": {},
   "source": [
    "<font size = 3>\n",
    "Note on dataset selection for this analysis\n",
    "\n",
    "<font size = 2>"
   ]
  },
  {
   "cell_type": "markdown",
   "id": "8a0ec28e",
   "metadata": {},
   "source": [
    "## <span style = \"color:darkblue\" > Top 3 constructors: 1981-2020, 2001-2020"
   ]
  },
  {
   "cell_type": "markdown",
   "id": "bfd80d84",
   "metadata": {},
   "source": [
    "### <span> Total points per season"
   ]
  },
  {
   "cell_type": "markdown",
   "id": "503aed00",
   "metadata": {},
   "source": [
    "<font size = 2>\n",
    "\n",
    "- Create a table to help calculate total points per constructor in each season/year\n",
    "\n",
    "- Since the constructor_results table does not have a year column, we add one by merging it with the races table, using a common identifier as shown below\n",
    "\n",
    "- This table will be helpful in calculating top 3 and average constructor score across the required time periods"
   ]
  },
  {
   "cell_type": "code",
   "execution_count": null,
   "id": "fa8e2eda",
   "metadata": {},
   "outputs": [
    {
     "name": "stdout",
     "output_type": "stream",
     "text": [
      "int64\n",
      "int64\n",
      "\n",
      "constructor_results dataset\n",
      "12170\n",
      "1016\n",
      "175\n",
      "\n",
      "races\n",
      "1102\n"
     ]
    },
    {
     "ename": "",
     "evalue": "",
     "output_type": "error",
     "traceback": [
      "\u001b[1;31mnotebook controller is DISPOSED. \n",
      "\u001b[1;31mView Jupyter <a href='command:jupyter.viewOutput'>log</a> for further details."
     ]
    }
   ],
   "source": [
    "#data checks before merging\n",
    "\n",
    "#check for dtypes in both datasets\n",
    "print(constructor_results['raceId'].dtypes)\n",
    "print(races['raceId'].dtypes)\n",
    "\n",
    "\n",
    "#Data length checks\n",
    "print(\"\")\n",
    "print(\"constructor_results dataset\")\n",
    "print(len(constructor_results))\n",
    "print(len(constructor_results['raceId'].unique()))\n",
    "print(len(constructor_results['constructorId'].unique()))\n",
    "\n",
    "print(\"\")\n",
    "print(\"races\")\n",
    "print(len(races['raceId'].unique()))\n",
    "\n",
    "#note: races dataset has more unique raceId values than the constructor_results dataset\n",
    "#we will do a left merge to retain all values from constructor_results dataset"
   ]
  },
  {
   "cell_type": "code",
   "execution_count": null,
   "id": "00a66729",
   "metadata": {},
   "outputs": [
    {
     "name": "stdout",
     "output_type": "stream",
     "text": [
      "\n",
      "12170\n",
      "1016\n",
      "175\n"
     ]
    },
    {
     "ename": "",
     "evalue": "",
     "output_type": "error",
     "traceback": [
      "\u001b[1;31mnotebook controller is DISPOSED. \n",
      "\u001b[1;31mView Jupyter <a href='command:jupyter.viewOutput'>log</a> for further details."
     ]
    }
   ],
   "source": [
    "#create a seasons total points table for each constructor in each year\n",
    "\n",
    "constructor_results_merged = pd.merge(constructor_results,\n",
    "                                      races[['raceId', 'year']], #add year into constructor results table\n",
    "                                        on='raceId',\n",
    "                                        how='left')\n",
    "\n",
    "\n",
    "#check for number of rows in the new table + data integrity\n",
    "print(\"\")\n",
    "print(len(constructor_results_merged))\n",
    "print(len(constructor_results_merged['raceId'].unique()))\n",
    "print(len(constructor_results_merged['constructorId'].unique()))"
   ]
  },
  {
   "cell_type": "code",
   "execution_count": null,
   "id": "6b0bc259",
   "metadata": {},
   "outputs": [
    {
     "name": "stdout",
     "output_type": "stream",
     "text": [
      "\n",
      "929\n",
      "1016\n",
      "175\n",
      "\n",
      "1956\n",
      "2022\n"
     ]
    },
    {
     "ename": "",
     "evalue": "",
     "output_type": "error",
     "traceback": [
      "\u001b[1;31mnotebook controller is DISPOSED. \n",
      "\u001b[1;31mView Jupyter <a href='command:jupyter.viewOutput'>log</a> for further details."
     ]
    }
   ],
   "source": [
    "#create season_totals table to calculate total points per constructor per year\n",
    "\n",
    "season_totals = (\n",
    "    constructor_results_merged\n",
    "    .groupby(['year', 'constructorId'],       #group by year and constructorId, summing points\n",
    "             as_index = False)['points']\n",
    "             .sum() \n",
    "    .rename(columns={'points':'total_points'}) #rename points column to total_points\n",
    ")\n",
    "\n",
    "#check for number of rows in the new table\n",
    "print(\"\")\n",
    "print(len(season_totals))\n",
    "print(len(constructor_results_merged['raceId'].unique()))\n",
    "print(len(constructor_results_merged['constructorId'].unique()))\n",
    "\n",
    "#check for lowest and highest year\n",
    "print(\"\")\n",
    "print(season_totals['year'].min())\n",
    "print(season_totals['year'].max())"
   ]
  },
  {
   "cell_type": "code",
   "execution_count": 65,
   "id": "3464ef68",
   "metadata": {},
   "outputs": [
    {
     "ename": "MergeError",
     "evalue": "Passing 'suffixes' which cause duplicate columns {'name_x'} is not allowed.",
     "output_type": "error",
     "traceback": [
      "\u001b[1;31m---------------------------------------------------------------------------\u001b[0m",
      "\u001b[1;31mMergeError\u001b[0m                                Traceback (most recent call last)",
      "Cell \u001b[1;32mIn[65], line 2\u001b[0m\n\u001b[0;32m      1\u001b[0m \u001b[38;5;66;03m#Add constructor names into season_totals\u001b[39;00m\n\u001b[1;32m----> 2\u001b[0m season_totals \u001b[38;5;241m=\u001b[39m season_totals\u001b[38;5;241m.\u001b[39mmerge(\n\u001b[0;32m      3\u001b[0m     constructors[[\u001b[38;5;124m'\u001b[39m\u001b[38;5;124mconstructorId\u001b[39m\u001b[38;5;124m'\u001b[39m, \u001b[38;5;124m'\u001b[39m\u001b[38;5;124mname\u001b[39m\u001b[38;5;124m'\u001b[39m]], \n\u001b[0;32m      4\u001b[0m     on \u001b[38;5;241m=\u001b[39m\u001b[38;5;124m'\u001b[39m\u001b[38;5;124mconstructorId\u001b[39m\u001b[38;5;124m'\u001b[39m, \n\u001b[0;32m      5\u001b[0m     how \u001b[38;5;241m=\u001b[39m\u001b[38;5;124m'\u001b[39m\u001b[38;5;124mleft\u001b[39m\u001b[38;5;124m'\u001b[39m) \n\u001b[0;32m      7\u001b[0m \u001b[38;5;66;03m#preview first few rows to make sure the merge worked\u001b[39;00m\n\u001b[0;32m      8\u001b[0m display(season_totals\u001b[38;5;241m.\u001b[39mhead())\n",
      "File \u001b[1;32mc:\\ProgramData\\anaconda3\\Lib\\site-packages\\pandas\\core\\frame.py:10832\u001b[0m, in \u001b[0;36mDataFrame.merge\u001b[1;34m(self, right, how, on, left_on, right_on, left_index, right_index, sort, suffixes, copy, indicator, validate)\u001b[0m\n\u001b[0;32m  10813\u001b[0m \u001b[38;5;129m@Substitution\u001b[39m(\u001b[38;5;124m\"\u001b[39m\u001b[38;5;124m\"\u001b[39m)\n\u001b[0;32m  10814\u001b[0m \u001b[38;5;129m@Appender\u001b[39m(_merge_doc, indents\u001b[38;5;241m=\u001b[39m\u001b[38;5;241m2\u001b[39m)\n\u001b[0;32m  10815\u001b[0m \u001b[38;5;28;01mdef\u001b[39;00m\u001b[38;5;250m \u001b[39m\u001b[38;5;21mmerge\u001b[39m(\n\u001b[1;32m   (...)\u001b[0m\n\u001b[0;32m  10828\u001b[0m     validate: MergeValidate \u001b[38;5;241m|\u001b[39m \u001b[38;5;28;01mNone\u001b[39;00m \u001b[38;5;241m=\u001b[39m \u001b[38;5;28;01mNone\u001b[39;00m,\n\u001b[0;32m  10829\u001b[0m ) \u001b[38;5;241m-\u001b[39m\u001b[38;5;241m>\u001b[39m DataFrame:\n\u001b[0;32m  10830\u001b[0m     \u001b[38;5;28;01mfrom\u001b[39;00m\u001b[38;5;250m \u001b[39m\u001b[38;5;21;01mpandas\u001b[39;00m\u001b[38;5;21;01m.\u001b[39;00m\u001b[38;5;21;01mcore\u001b[39;00m\u001b[38;5;21;01m.\u001b[39;00m\u001b[38;5;21;01mreshape\u001b[39;00m\u001b[38;5;21;01m.\u001b[39;00m\u001b[38;5;21;01mmerge\u001b[39;00m\u001b[38;5;250m \u001b[39m\u001b[38;5;28;01mimport\u001b[39;00m merge\n\u001b[1;32m> 10832\u001b[0m     \u001b[38;5;28;01mreturn\u001b[39;00m merge(\n\u001b[0;32m  10833\u001b[0m         \u001b[38;5;28mself\u001b[39m,\n\u001b[0;32m  10834\u001b[0m         right,\n\u001b[0;32m  10835\u001b[0m         how\u001b[38;5;241m=\u001b[39mhow,\n\u001b[0;32m  10836\u001b[0m         on\u001b[38;5;241m=\u001b[39mon,\n\u001b[0;32m  10837\u001b[0m         left_on\u001b[38;5;241m=\u001b[39mleft_on,\n\u001b[0;32m  10838\u001b[0m         right_on\u001b[38;5;241m=\u001b[39mright_on,\n\u001b[0;32m  10839\u001b[0m         left_index\u001b[38;5;241m=\u001b[39mleft_index,\n\u001b[0;32m  10840\u001b[0m         right_index\u001b[38;5;241m=\u001b[39mright_index,\n\u001b[0;32m  10841\u001b[0m         sort\u001b[38;5;241m=\u001b[39msort,\n\u001b[0;32m  10842\u001b[0m         suffixes\u001b[38;5;241m=\u001b[39msuffixes,\n\u001b[0;32m  10843\u001b[0m         copy\u001b[38;5;241m=\u001b[39mcopy,\n\u001b[0;32m  10844\u001b[0m         indicator\u001b[38;5;241m=\u001b[39mindicator,\n\u001b[0;32m  10845\u001b[0m         validate\u001b[38;5;241m=\u001b[39mvalidate,\n\u001b[0;32m  10846\u001b[0m     )\n",
      "File \u001b[1;32mc:\\ProgramData\\anaconda3\\Lib\\site-packages\\pandas\\core\\reshape\\merge.py:184\u001b[0m, in \u001b[0;36mmerge\u001b[1;34m(left, right, how, on, left_on, right_on, left_index, right_index, sort, suffixes, copy, indicator, validate)\u001b[0m\n\u001b[0;32m    169\u001b[0m \u001b[38;5;28;01melse\u001b[39;00m:\n\u001b[0;32m    170\u001b[0m     op \u001b[38;5;241m=\u001b[39m _MergeOperation(\n\u001b[0;32m    171\u001b[0m         left_df,\n\u001b[0;32m    172\u001b[0m         right_df,\n\u001b[1;32m   (...)\u001b[0m\n\u001b[0;32m    182\u001b[0m         validate\u001b[38;5;241m=\u001b[39mvalidate,\n\u001b[0;32m    183\u001b[0m     )\n\u001b[1;32m--> 184\u001b[0m     \u001b[38;5;28;01mreturn\u001b[39;00m op\u001b[38;5;241m.\u001b[39mget_result(copy\u001b[38;5;241m=\u001b[39mcopy)\n",
      "File \u001b[1;32mc:\\ProgramData\\anaconda3\\Lib\\site-packages\\pandas\\core\\reshape\\merge.py:888\u001b[0m, in \u001b[0;36m_MergeOperation.get_result\u001b[1;34m(self, copy)\u001b[0m\n\u001b[0;32m    884\u001b[0m     \u001b[38;5;28mself\u001b[39m\u001b[38;5;241m.\u001b[39mleft, \u001b[38;5;28mself\u001b[39m\u001b[38;5;241m.\u001b[39mright \u001b[38;5;241m=\u001b[39m \u001b[38;5;28mself\u001b[39m\u001b[38;5;241m.\u001b[39m_indicator_pre_merge(\u001b[38;5;28mself\u001b[39m\u001b[38;5;241m.\u001b[39mleft, \u001b[38;5;28mself\u001b[39m\u001b[38;5;241m.\u001b[39mright)\n\u001b[0;32m    886\u001b[0m join_index, left_indexer, right_indexer \u001b[38;5;241m=\u001b[39m \u001b[38;5;28mself\u001b[39m\u001b[38;5;241m.\u001b[39m_get_join_info()\n\u001b[1;32m--> 888\u001b[0m result \u001b[38;5;241m=\u001b[39m \u001b[38;5;28mself\u001b[39m\u001b[38;5;241m.\u001b[39m_reindex_and_concat(\n\u001b[0;32m    889\u001b[0m     join_index, left_indexer, right_indexer, copy\u001b[38;5;241m=\u001b[39mcopy\n\u001b[0;32m    890\u001b[0m )\n\u001b[0;32m    891\u001b[0m result \u001b[38;5;241m=\u001b[39m result\u001b[38;5;241m.\u001b[39m__finalize__(\u001b[38;5;28mself\u001b[39m, method\u001b[38;5;241m=\u001b[39m\u001b[38;5;28mself\u001b[39m\u001b[38;5;241m.\u001b[39m_merge_type)\n\u001b[0;32m    893\u001b[0m \u001b[38;5;28;01mif\u001b[39;00m \u001b[38;5;28mself\u001b[39m\u001b[38;5;241m.\u001b[39mindicator:\n",
      "File \u001b[1;32mc:\\ProgramData\\anaconda3\\Lib\\site-packages\\pandas\\core\\reshape\\merge.py:840\u001b[0m, in \u001b[0;36m_MergeOperation._reindex_and_concat\u001b[1;34m(self, join_index, left_indexer, right_indexer, copy)\u001b[0m\n\u001b[0;32m    837\u001b[0m left \u001b[38;5;241m=\u001b[39m \u001b[38;5;28mself\u001b[39m\u001b[38;5;241m.\u001b[39mleft[:]\n\u001b[0;32m    838\u001b[0m right \u001b[38;5;241m=\u001b[39m \u001b[38;5;28mself\u001b[39m\u001b[38;5;241m.\u001b[39mright[:]\n\u001b[1;32m--> 840\u001b[0m llabels, rlabels \u001b[38;5;241m=\u001b[39m _items_overlap_with_suffix(\n\u001b[0;32m    841\u001b[0m     \u001b[38;5;28mself\u001b[39m\u001b[38;5;241m.\u001b[39mleft\u001b[38;5;241m.\u001b[39m_info_axis, \u001b[38;5;28mself\u001b[39m\u001b[38;5;241m.\u001b[39mright\u001b[38;5;241m.\u001b[39m_info_axis, \u001b[38;5;28mself\u001b[39m\u001b[38;5;241m.\u001b[39msuffixes\n\u001b[0;32m    842\u001b[0m )\n\u001b[0;32m    844\u001b[0m \u001b[38;5;28;01mif\u001b[39;00m left_indexer \u001b[38;5;129;01mis\u001b[39;00m \u001b[38;5;129;01mnot\u001b[39;00m \u001b[38;5;28;01mNone\u001b[39;00m \u001b[38;5;129;01mand\u001b[39;00m \u001b[38;5;129;01mnot\u001b[39;00m is_range_indexer(left_indexer, \u001b[38;5;28mlen\u001b[39m(left)):\n\u001b[0;32m    845\u001b[0m     \u001b[38;5;66;03m# Pinning the index here (and in the right code just below) is not\u001b[39;00m\n\u001b[0;32m    846\u001b[0m     \u001b[38;5;66;03m#  necessary, but makes the `.take` more performant if we have e.g.\u001b[39;00m\n\u001b[0;32m    847\u001b[0m     \u001b[38;5;66;03m#  a MultiIndex for left.index.\u001b[39;00m\n\u001b[0;32m    848\u001b[0m     lmgr \u001b[38;5;241m=\u001b[39m left\u001b[38;5;241m.\u001b[39m_mgr\u001b[38;5;241m.\u001b[39mreindex_indexer(\n\u001b[0;32m    849\u001b[0m         join_index,\n\u001b[0;32m    850\u001b[0m         left_indexer,\n\u001b[1;32m   (...)\u001b[0m\n\u001b[0;32m    855\u001b[0m         use_na_proxy\u001b[38;5;241m=\u001b[39m\u001b[38;5;28;01mTrue\u001b[39;00m,\n\u001b[0;32m    856\u001b[0m     )\n",
      "File \u001b[1;32mc:\\ProgramData\\anaconda3\\Lib\\site-packages\\pandas\\core\\reshape\\merge.py:2757\u001b[0m, in \u001b[0;36m_items_overlap_with_suffix\u001b[1;34m(left, right, suffixes)\u001b[0m\n\u001b[0;32m   2755\u001b[0m     dups\u001b[38;5;241m.\u001b[39mextend(rlabels[(rlabels\u001b[38;5;241m.\u001b[39mduplicated()) \u001b[38;5;241m&\u001b[39m (\u001b[38;5;241m~\u001b[39mright\u001b[38;5;241m.\u001b[39mduplicated())]\u001b[38;5;241m.\u001b[39mtolist())\n\u001b[0;32m   2756\u001b[0m \u001b[38;5;28;01mif\u001b[39;00m dups:\n\u001b[1;32m-> 2757\u001b[0m     \u001b[38;5;28;01mraise\u001b[39;00m MergeError(\n\u001b[0;32m   2758\u001b[0m         \u001b[38;5;124mf\u001b[39m\u001b[38;5;124m\"\u001b[39m\u001b[38;5;124mPassing \u001b[39m\u001b[38;5;124m'\u001b[39m\u001b[38;5;124msuffixes\u001b[39m\u001b[38;5;124m'\u001b[39m\u001b[38;5;124m which cause duplicate columns \u001b[39m\u001b[38;5;132;01m{\u001b[39;00m\u001b[38;5;28mset\u001b[39m(dups)\u001b[38;5;132;01m}\u001b[39;00m\u001b[38;5;124m is \u001b[39m\u001b[38;5;124m\"\u001b[39m\n\u001b[0;32m   2759\u001b[0m         \u001b[38;5;124mf\u001b[39m\u001b[38;5;124m\"\u001b[39m\u001b[38;5;124mnot allowed.\u001b[39m\u001b[38;5;124m\"\u001b[39m,\n\u001b[0;32m   2760\u001b[0m     )\n\u001b[0;32m   2762\u001b[0m \u001b[38;5;28;01mreturn\u001b[39;00m llabels, rlabels\n",
      "\u001b[1;31mMergeError\u001b[0m: Passing 'suffixes' which cause duplicate columns {'name_x'} is not allowed."
     ]
    }
   ],
   "source": [
    "#Add constructor names into season_totals\n",
    "season_totals = season_totals.merge(\n",
    "    constructors[['constructorId', 'name']], \n",
    "    on ='constructorId', \n",
    "    how ='left') \n",
    "\n",
    "#preview first few rows to make sure the merge worked\n",
    "display(season_totals.head())\n",
    "\n",
    "#check for duplicate years for each constructor\n",
    "print(\"\")\n",
    "print(len(season_totals['year'].unique()))\n",
    "print(len(season_totals['constructorId'].unique()))\n"
   ]
  },
  {
   "cell_type": "code",
   "execution_count": 62,
   "id": "d39f6d15",
   "metadata": {},
   "outputs": [
    {
     "data": {
      "application/vnd.microsoft.datawrangler.viewer.v0+json": {
       "columns": [
        {
         "name": "index",
         "rawType": "int64",
         "type": "integer"
        },
        {
         "name": "year",
         "rawType": "int64",
         "type": "integer"
        },
        {
         "name": "constructorId",
         "rawType": "int64",
         "type": "integer"
        },
        {
         "name": "total_points",
         "rawType": "float64",
         "type": "float"
        },
        {
         "name": "name_x",
         "rawType": "object",
         "type": "string"
        },
        {
         "name": "name_y",
         "rawType": "object",
         "type": "string"
        }
       ],
       "ref": "990bf24b-d112-458e-af33-c3da7582f86a",
       "rows": [
        [
         "866",
         "2016",
         "131",
         "765.0",
         "Mercedes",
         "Mercedes"
        ],
        [
         "922",
         "2022",
         "9",
         "759.0",
         "Red Bull",
         "Red Bull"
        ],
        [
         "896",
         "2019",
         "131",
         "739.0",
         "Mercedes",
         "Mercedes"
        ],
        [
         "854",
         "2015",
         "131",
         "703.0",
         "Mercedes",
         "Mercedes"
        ],
        [
         "843",
         "2014",
         "131",
         "701.0",
         "Mercedes",
         "Mercedes"
        ],
        [
         "877",
         "2017",
         "131",
         "668.0",
         "Mercedes",
         "Mercedes"
        ],
        [
         "887",
         "2018",
         "131",
         "655.0",
         "Mercedes",
         "Mercedes"
        ],
        [
         "806",
         "2011",
         "9",
         "650.0",
         "Red Bull",
         "Red Bull"
        ],
        [
         "915",
         "2021",
         "131",
         "613.5",
         "Mercedes",
         "Mercedes"
        ],
        [
         "829",
         "2013",
         "9",
         "596.0",
         "Red Bull",
         "Red Bull"
        ]
       ],
       "shape": {
        "columns": 5,
        "rows": 10
       }
      },
      "text/html": [
       "<div>\n",
       "<style scoped>\n",
       "    .dataframe tbody tr th:only-of-type {\n",
       "        vertical-align: middle;\n",
       "    }\n",
       "\n",
       "    .dataframe tbody tr th {\n",
       "        vertical-align: top;\n",
       "    }\n",
       "\n",
       "    .dataframe thead th {\n",
       "        text-align: right;\n",
       "    }\n",
       "</style>\n",
       "<table border=\"1\" class=\"dataframe\">\n",
       "  <thead>\n",
       "    <tr style=\"text-align: right;\">\n",
       "      <th></th>\n",
       "      <th>year</th>\n",
       "      <th>constructorId</th>\n",
       "      <th>total_points</th>\n",
       "      <th>name_x</th>\n",
       "      <th>name_y</th>\n",
       "    </tr>\n",
       "  </thead>\n",
       "  <tbody>\n",
       "    <tr>\n",
       "      <th>866</th>\n",
       "      <td>2016</td>\n",
       "      <td>131</td>\n",
       "      <td>765.0</td>\n",
       "      <td>Mercedes</td>\n",
       "      <td>Mercedes</td>\n",
       "    </tr>\n",
       "    <tr>\n",
       "      <th>922</th>\n",
       "      <td>2022</td>\n",
       "      <td>9</td>\n",
       "      <td>759.0</td>\n",
       "      <td>Red Bull</td>\n",
       "      <td>Red Bull</td>\n",
       "    </tr>\n",
       "    <tr>\n",
       "      <th>896</th>\n",
       "      <td>2019</td>\n",
       "      <td>131</td>\n",
       "      <td>739.0</td>\n",
       "      <td>Mercedes</td>\n",
       "      <td>Mercedes</td>\n",
       "    </tr>\n",
       "    <tr>\n",
       "      <th>854</th>\n",
       "      <td>2015</td>\n",
       "      <td>131</td>\n",
       "      <td>703.0</td>\n",
       "      <td>Mercedes</td>\n",
       "      <td>Mercedes</td>\n",
       "    </tr>\n",
       "    <tr>\n",
       "      <th>843</th>\n",
       "      <td>2014</td>\n",
       "      <td>131</td>\n",
       "      <td>701.0</td>\n",
       "      <td>Mercedes</td>\n",
       "      <td>Mercedes</td>\n",
       "    </tr>\n",
       "    <tr>\n",
       "      <th>877</th>\n",
       "      <td>2017</td>\n",
       "      <td>131</td>\n",
       "      <td>668.0</td>\n",
       "      <td>Mercedes</td>\n",
       "      <td>Mercedes</td>\n",
       "    </tr>\n",
       "    <tr>\n",
       "      <th>887</th>\n",
       "      <td>2018</td>\n",
       "      <td>131</td>\n",
       "      <td>655.0</td>\n",
       "      <td>Mercedes</td>\n",
       "      <td>Mercedes</td>\n",
       "    </tr>\n",
       "    <tr>\n",
       "      <th>806</th>\n",
       "      <td>2011</td>\n",
       "      <td>9</td>\n",
       "      <td>650.0</td>\n",
       "      <td>Red Bull</td>\n",
       "      <td>Red Bull</td>\n",
       "    </tr>\n",
       "    <tr>\n",
       "      <th>915</th>\n",
       "      <td>2021</td>\n",
       "      <td>131</td>\n",
       "      <td>613.5</td>\n",
       "      <td>Mercedes</td>\n",
       "      <td>Mercedes</td>\n",
       "    </tr>\n",
       "    <tr>\n",
       "      <th>829</th>\n",
       "      <td>2013</td>\n",
       "      <td>9</td>\n",
       "      <td>596.0</td>\n",
       "      <td>Red Bull</td>\n",
       "      <td>Red Bull</td>\n",
       "    </tr>\n",
       "  </tbody>\n",
       "</table>\n",
       "</div>"
      ],
      "text/plain": [
       "     year  constructorId  total_points    name_x    name_y\n",
       "866  2016            131         765.0  Mercedes  Mercedes\n",
       "922  2022              9         759.0  Red Bull  Red Bull\n",
       "896  2019            131         739.0  Mercedes  Mercedes\n",
       "854  2015            131         703.0  Mercedes  Mercedes\n",
       "843  2014            131         701.0  Mercedes  Mercedes\n",
       "877  2017            131         668.0  Mercedes  Mercedes\n",
       "887  2018            131         655.0  Mercedes  Mercedes\n",
       "806  2011              9         650.0  Red Bull  Red Bull\n",
       "915  2021            131         613.5  Mercedes  Mercedes\n",
       "829  2013              9         596.0  Red Bull  Red Bull"
      ]
     },
     "execution_count": 62,
     "metadata": {},
     "output_type": "execute_result"
    }
   ],
   "source": [
    "#getting to know the merged dataset\n",
    "\n",
    "#highest ever points scored by a constructor in a season\n",
    "sorted_season_totals = season_totals.sort_values(by='total_points', ascending=False)\n",
    "sorted_season_totals.head(10)"
   ]
  },
  {
   "cell_type": "markdown",
   "id": "41e9386a",
   "metadata": {},
   "source": [
    "<font size = 5>\n",
    "Part (a), (b) and (c)"
   ]
  },
  {
   "cell_type": "markdown",
   "id": "b7331d4d",
   "metadata": {},
   "source": [
    "\n",
    "<font size = 3>\n",
    "- Calculating Top 3 constructors across the following time periods: 1981 - 2020, 2001 - 2020\n"
   ]
  },
  {
   "cell_type": "code",
   "execution_count": null,
   "id": "07c63dfe",
   "metadata": {},
   "outputs": [],
   "source": [
    "#creating helper dataframes for calculations\n",
    "construct_81_20 = season_totals[(season_totals['year'] >= 1981) & (season_totals['year'] <= 2020)]\n",
    "construct_01_20 = season_totals[(season_totals['year'] >= 2001) & (season_totals['year'] <= 2020)]\n",
    "\n",
    "#calculating sum of total points for each constructor over the specified periods and then sorting to get top 3\n",
    "top3_81_20 = (construct_81_20.groupby('name', as_index = False)['total_points']\n",
    "               .sum()\n",
    "               .sort_values(by='total_points', ascending = False)\n",
    "               .head(3)\n",
    "              )\n",
    "\n",
    "top3_01_20 = (construct_01_20.groupby('name', as_index = False)['total_points']\n",
    "                .sum()\n",
    "                .sort_values(by='total_points', ascending = False)\n",
    "                .head(3)\n",
    "                  )\n",
    "\n",
    "display(top3_81_20)\n",
    "display(top3_01_20)"
   ]
  },
  {
   "cell_type": "markdown",
   "id": "7855d966",
   "metadata": {},
   "source": [
    "<font size = 3>\n",
    "- Calculating average points across constructors in the following time periods: 1981-2020, 2001-2020"
   ]
  },
  {
   "cell_type": "code",
   "execution_count": null,
   "id": "1a1e8647",
   "metadata": {},
   "outputs": [],
   "source": [
    "#calculating total points for each constructor over the specified periods\n",
    "totalpoints_81_20 = (construct_81_20\n",
    "                     .groupby([\"constructorId\", \"name\"], as_index = False)[\"total_points\"]\n",
    "                     .sum()\n",
    "                    )\n",
    "totalpoints_01_20 = (construct_01_20\n",
    "                     .groupby([\"constructorId\", \"name\"], as_index = False)[\"total_points\"]\n",
    "                     .sum()\n",
    "                    )\n",
    "\n",
    "#calculating average total points across all constructors over the specified periods\n",
    "avg_81_20 = totalpoints_81_20[\"total_points\"].mean()\n",
    "avg_01_20 = totalpoints_01_20[\"total_points\"].mean()\n",
    "\n",
    "display(avg_81_20)\n",
    "display(avg_01_20)"
   ]
  },
  {
   "cell_type": "markdown",
   "id": "a8d2ff7b",
   "metadata": {},
   "source": [
    "<font size = 3>\n",
    "Analysis comments\n",
    "\n",
    "- As seen above, the top three constructors between 1981-2020 are: Ferrari, Mercedes, McLaren\n",
    "- Whereas, the top three constructors between 2001-2020 are: Ferrari, Mercedes, Red Bull\n",
    "- In the second time period, Red Bull replaced McLaren on the leader board\n",
    "- The top three scorers had significantly larger scores compared to the average across all constructs\n",
    "- For instance, the top scores across both time periods scored more than 5000 points\n",
    "- But the average total points was less than 1000 in both time periods\n"
   ]
  },
  {
   "cell_type": "markdown",
   "id": "2851a07f",
   "metadata": {},
   "source": [
    "<font size = 5>\n",
    "(d) and (e) Ferrari analysis (1981-2020)"
   ]
  },
  {
   "cell_type": "code",
   "execution_count": null,
   "id": "86299a7d",
   "metadata": {},
   "outputs": [],
   "source": []
  }
 ],
 "metadata": {
  "kernelspec": {
   "display_name": "base",
   "language": "python",
   "name": "python3"
  },
  "language_info": {
   "codemirror_mode": {
    "name": "ipython",
    "version": 3
   },
   "file_extension": ".py",
   "mimetype": "text/x-python",
   "name": "python",
   "nbconvert_exporter": "python",
   "pygments_lexer": "ipython3",
   "version": "3.13.5"
  }
 },
 "nbformat": 4,
 "nbformat_minor": 5
}
