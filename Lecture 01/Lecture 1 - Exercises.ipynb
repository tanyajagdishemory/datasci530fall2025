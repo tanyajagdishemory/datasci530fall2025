{
 "cells": [
  {
   "attachments": {},
   "cell_type": "markdown",
   "metadata": {},
   "source": [
    "# Lecture 1 Exercises"
   ]
  },
  {
   "cell_type": "markdown",
   "metadata": {},
   "source": [
    "\n",
    "\n",
    "## Short Questions\n",
    "\n",
    "<font size = \"5\">\n",
    "\n",
    "1. What is the difference between a list and an array?\n",
    "\n",
    "2. Consider the list <br>\n",
    "\n",
    "```list_colors = [\"red\",\"yellow\",\"green\"]``` <br>\n",
    "\n",
    "What is the output of ```list_colors[0]``` and <br>\n",
    "```list_colors[1]```?\n",
    "\n",
    "3. How do you concatenate two strings? \n",
    "\n",
    "4. What does the error \"not defined\" mean?\n",
    "5. What does the error \"could not be broadcast\" mean?\n",
    "6. How do you compute the median of an array?\n"
   ]
  },
  {
   "cell_type": "code",
   "execution_count": 1,
   "metadata": {},
   "outputs": [],
   "source": [
    "# Write your answers here as comments:\n",
    "\n",
    "#1. A list can typically be in any format (e.g., string, float, integer), whereas arrays are more structured and static and only hold one type of information\n",
    "#2. red, yellow\n",
    "#3. using + operator\n",
    "#4. The variable is not created before being used\n",
    "#5. You get this when you try to add two arrays that are of different sizes\n",
    "#6. np.median(arrayname)\n"
   ]
  },
  {
   "cell_type": "markdown",
   "metadata": {},
   "source": [
    "\n",
    "\n",
    "## Long Questions"
   ]
  },
  {
   "attachments": {},
   "cell_type": "markdown",
   "metadata": {},
   "source": [
    "<font size = \"5\">\n",
    "\n",
    "(a) Import the pandas, matplotlib, and numpy packages"
   ]
  },
  {
   "cell_type": "code",
   "execution_count": 2,
   "metadata": {},
   "outputs": [],
   "source": [
    "# Write your own code\n",
    "\n",
    "import pandas as pd\n",
    "import matplotlib.pyplot as plt\n",
    "import numpy as np\n",
    "\n"
   ]
  },
  {
   "attachments": {},
   "cell_type": "markdown",
   "metadata": {},
   "source": [
    "<font size = \"5\">\n",
    "\n",
    "(b) Open the dataset \"worldbank_wdi_2019.csv\" <br>\n",
    "in the \"data\" folder\n",
    "\n",
    "<font size = \"3\">\n",
    "\n",
    "- Read it as a pandas object called \"wdi\"\n",
    "- Note: This is a subset of the World Development Indicators for 2019\n",
    "- Each observation represents a different country"
   ]
  },
  {
   "cell_type": "code",
   "execution_count": 3,
   "metadata": {},
   "outputs": [],
   "source": [
    "# Write your own code\n",
    "\n",
    "wdi = pd.read_csv(\"data/worldbank_wdi_2019.csv\")\n",
    "\n"
   ]
  },
  {
   "attachments": {},
   "cell_type": "markdown",
   "metadata": {},
   "source": [
    "<font size = \"5\">\n",
    "\n",
    "(c) Browse the dataset and manually create <br>\n",
    "a list of variable names\n",
    "\n"
   ]
  },
  {
   "cell_type": "code",
   "execution_count": 4,
   "metadata": {},
   "outputs": [],
   "source": [
    "# Write your own code\n",
    "\n",
    "# Create a list, e.g. \"variable_names = [ \"name1\", \"name2\", \"name3\" ]\"\n",
    "# Manually type the names of the variables\n",
    "# If you're viewing the dataset from the VS-Code \"Variables\" tool, you'll\n",
    "# see an extra column \"index\". Do not include this in your list.\n",
    "\n",
    "variable_names = [\"year\", \"country_name\", \"life_expectancy\", \"gdp_per_capita_usd\"]\n",
    "\n"
   ]
  },
  {
   "attachments": {},
   "cell_type": "markdown",
   "metadata": {},
   "source": [
    "<font size = \"5\">\n",
    "\n",
    "(d) Compute descriptive statistics for the fourth <br>\n",
    "variable in the dataset\n",
    "\n",
    "<font size = \"3\">\n",
    "\n",
    "- One way to do this is:\n",
    "\n",
    "wdi[\"gdp_per_capita_usd\"].describe()\n",
    "\n",
    "- Do something similar, but with the list you created above.\n",
    "- Substitute \"gdp_per_capita_usd\" with a command that <br>\n",
    "automatically extracts the fourth element in the list"
   ]
  },
  {
   "cell_type": "code",
   "execution_count": 5,
   "metadata": {},
   "outputs": [
    {
     "data": {
      "application/vnd.microsoft.datawrangler.viewer.v0+json": {
       "columns": [
        {
         "name": "index",
         "rawType": "object",
         "type": "string"
        },
        {
         "name": "gdp_per_capita_usd",
         "rawType": "float64",
         "type": "float"
        }
       ],
       "ref": "64d438ab-edc5-4ff7-bead-aeedce45e8b5",
       "rows": [
        [
         "count",
         "255.0"
        ],
        [
         "mean",
         "17230.94975652353"
        ],
        [
         "std",
         "25792.183785237947"
        ],
        [
         "min",
         "216.9729681"
        ],
        [
         "25%",
         "2186.0465815"
        ],
        [
         "50%",
         "6837.717826"
        ],
        [
         "75%",
         "19809.323135"
        ],
        [
         "max",
         "199377.4818"
        ]
       ],
       "shape": {
        "columns": 1,
        "rows": 8
       }
      },
      "text/plain": [
       "count       255.000000\n",
       "mean      17230.949757\n",
       "std       25792.183785\n",
       "min         216.972968\n",
       "25%        2186.046581\n",
       "50%        6837.717826\n",
       "75%       19809.323135\n",
       "max      199377.481800\n",
       "Name: gdp_per_capita_usd, dtype: float64"
      ]
     },
     "execution_count": 5,
     "metadata": {},
     "output_type": "execute_result"
    }
   ],
   "source": [
    "# Write your own code\n",
    "\n",
    "# Remember that the numbering in Python starts at zero\n",
    "# For example:\n",
    "# list_colors = [\"red\",\"green\",\"yellow\"]\n",
    "# list_colors[2] will output \"yellow\"\n",
    "\n",
    "\n",
    "wdi[\"gdp_per_capita_usd\"].describe()\n",
    "wdi[variable_names[3]].describe()\n",
    "\n"
   ]
  },
  {
   "attachments": {},
   "cell_type": "markdown",
   "metadata": {},
   "source": [
    "<font size = \"5\">\n",
    "\n",
    "(e) Show a scatter plot that shows \"gdp_per_capita_usd\" <br>\n",
    "in the x-axis and \"lifexpectancy\" in the y-axis. Label the axes."
   ]
  },
  {
   "cell_type": "code",
   "execution_count": 6,
   "metadata": {},
   "outputs": [
    {
     "data": {
      "image/png": "[encoded data removed]",
      "text/plain": [
       "<Figure size 640x480 with 1 Axes>"
      ]
     },
     "metadata": {},
     "output_type": "display_data"
    }
   ],
   "source": [
    "# Write your own code\n",
    "\n",
    "variable_names = [\"year\",\"country_name\",\"life_expectancy\",\"gdp_per_capita_usd\"]\n",
    "\n",
    "plt.scatter(x = wdi[\"gdp_per_capita_usd\"],y = wdi[\"life_expectancy\"])\n",
    "plt.xlabel(\"GDP per capita USD\")\n",
    "plt.ylabel(\"Life expectancy\")\n",
    "plt.show()\n",
    "\n",
    "\n"
   ]
  },
  {
   "cell_type": "markdown",
   "metadata": {},
   "source": [
    "<font size = \"5\">\n",
    "\n",
    "(f) Generate \"vec_x\" from a chi-square <br>\n",
    "distribution with (df = 1, size = 1000)\n",
    "\n",
    "<font size = \"3\">\n",
    "\n",
    "- Plot a histogram of each variable, with axis labels, and title\n",
    "- Create a new variable \"vec_y\" by the formula <br>\n",
    "$ y = e^x + 2x + 5$\n",
    "- Plot \"vec_x\" against \"vec_y\" and label the axes"
   ]
  },
  {
   "cell_type": "code",
   "execution_count": 7,
   "metadata": {},
   "outputs": [
    {
     "data": {
      "text/plain": [
       "Text(0, 0.5, 'Vector Y')"
      ]
     },
     "execution_count": 7,
     "metadata": {},
     "output_type": "execute_result"
    },
    {
     "data": {
      "image/png": "[encoded data removed]",
      "text/plain": [
       "<Figure size 640x480 with 1 Axes>"
      ]
     },
     "metadata": {},
     "output_type": "display_data"
    }
   ],
   "source": [
    "# Write your own code\n",
    "\n",
    "# generate vector x\n",
    "\n",
    "vec_x = np.random.chisquare(df= 1, size = 1000)\n",
    "\n",
    "# plot vector x\n",
    "\n",
    "plt.hist(vec_x)\n",
    "plt.xlabel(\"Vector X\")\n",
    "plt.ylabel(\"Frequency\")\n",
    "plt.show\n",
    "\n",
    "\n",
    "#generate vector y\n",
    "\n",
    "vec_y = np.exp(vec_x) + 2*vec_x + 5\n",
    "\n",
    "\n",
    "#plot vector x and vector y\n",
    "\n",
    "plt.scatter(vec_x, vec_y)\n",
    "plt.xlabel(\"Vector X\")\n",
    "plt.ylabel(\"Vector Y\")\n"
   ]
  },
  {
   "cell_type": "markdown",
   "metadata": {},
   "source": [
    "<font size = \"5\">\n",
    "\n",
    "(g) Research online how to create an array with <br>\n",
    "```size = 1000``` entries, with all entries equal to one.\n",
    "\n",
    "<font size = \"3\">\n",
    "\n",
    "- Create a new matrix, ```X_mat``` that appends a <br>\n",
    "vector with only ones and \"vec_x\" from question (f) to form <br>\n",
    "a matrix with two columns and 1000 rows\n",
    "- Compute $(X_{mat}'X_{mat})^{-1}$"
   ]
  },
  {
   "cell_type": "code",
   "execution_count": 8,
   "metadata": {},
   "outputs": [
    {
     "name": "stdout",
     "output_type": "stream",
     "text": [
      "(1000,)\n",
      "(1000,)\n",
      "(1000, 2)\n",
      "[[ 0.00151793 -0.00050101]\n",
      " [-0.00050101  0.00048464]]\n"
     ]
    }
   ],
   "source": [
    "# Write your own code\n",
    "\n",
    "#create an array of ones\n",
    "ones = np.ones(1000)\n",
    "print(ones.shape)\n",
    "print(vec_x.shape)\n",
    "\n",
    "#append vec_x with array_ones\n",
    "X_mat = np.column_stack([ones, vec_x])\n",
    "print(X_mat.shape)\n",
    "\n",
    "#compute\n",
    "calculation = np.linalg.inv(np.dot(np.matrix.transpose(X_mat), X_mat))\n",
    "print(calculation)"
   ]
  }
 ],
 "metadata": {
  "kernelspec": {
   "display_name": "base",
   "language": "python",
   "name": "python3"
  },
  "language_info": {
   "codemirror_mode": {
    "name": "ipython",
    "version": 3
   },
   "file_extension": ".py",
   "mimetype": "text/x-python",
   "name": "python",
   "nbconvert_exporter": "python",
   "pygments_lexer": "ipython3",
   "version": "3.13.5"
  },
  "orig_nbformat": 4
 },
 "nbformat": 4,
 "nbformat_minor": 2
}
